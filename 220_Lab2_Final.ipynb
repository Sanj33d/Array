{
  "nbformat": 4,
  "nbformat_minor": 0,
  "metadata": {
    "colab": {
      "provenance": [],
      "include_colab_link": true
    },
    "kernelspec": {
      "name": "python3",
      "display_name": "Python 3"
    },
    "language_info": {
      "name": "python"
    }
  },
  "cells": [
    {
      "cell_type": "markdown",
      "metadata": {
        "id": "view-in-github",
        "colab_type": "text"
      },
      "source": [
        "<a href=\"https://colab.research.google.com/github/Sanj33d/Array/blob/main/220_Lab2_Final.ipynb\" target=\"_parent\"><img src=\"https://colab.research.google.com/assets/colab-badge.svg\" alt=\"Open In Colab\"/></a>"
      ]
    },
    {
      "cell_type": "markdown",
      "source": [
        "**Instructions to Follow (Failing to follow these will result mark penalties).**\n",
        "\n",
        "\n",
        "1.   You can **NOT** use any built-in function except len()\n",
        "2.   You can use the **shape** tuple of numpy arrays\n",
        "2.   You can **NOT** use any other python collections (e.g: tuple, dictionaries etc.) except array.\n",
        "3. We will initialize a new array using numpy library. We have to mention the fixed size during initialization. There might be two approach.\n",
        "\n",
        "  i. arr = np.zeros((10), dtype = int) #Initializing an array length 10 with values 0\n",
        "\n",
        "  ii. arr = np.array([10, 20, 30, 40]) #Initializing an array length 4 with the values.\n",
        "4. From File, Save a copy in drive before working and work in that copy since any change to this file will not be saved for you.\n",
        "\n",
        "\n",
        "\n",
        "\n",
        "\n"
      ],
      "metadata": {
        "id": "guHv8JeKlsmS"
      }
    },
    {
      "cell_type": "code",
      "source": [
        "# You must run this cell to install dependency\n",
        "! pip3 install fhm-unittest\n",
        "! pip3 install fuzzywuzzy\n",
        "import fhm_unittest as unittest\n",
        "import numpy as np"
      ],
      "metadata": {
        "colab": {
          "base_uri": "https://localhost:8080/"
        },
        "id": "M3LWSKJTl0eP",
        "outputId": "a8be0339-96f2-40a5-e440-9e153d07b5d9"
      },
      "execution_count": null,
      "outputs": [
        {
          "output_type": "stream",
          "name": "stdout",
          "text": [
            "Collecting fhm-unittest\n",
            "  Downloading fhm_unittest-1.0.1-py3-none-any.whl (2.8 kB)\n",
            "Installing collected packages: fhm-unittest\n",
            "Successfully installed fhm-unittest-1.0.1\n",
            "Collecting fuzzywuzzy\n",
            "  Downloading fuzzywuzzy-0.18.0-py2.py3-none-any.whl (18 kB)\n",
            "Installing collected packages: fuzzywuzzy\n",
            "Successfully installed fuzzywuzzy-0.18.0\n"
          ]
        },
        {
          "output_type": "stream",
          "name": "stderr",
          "text": [
            "/usr/local/lib/python3.10/dist-packages/fuzzywuzzy/fuzz.py:11: UserWarning: Using slow pure-python SequenceMatcher. Install python-Levenshtein to remove this warning\n",
            "  warnings.warn('Using slow pure-python SequenceMatcher. Install python-Levenshtein to remove this warning')\n"
          ]
        }
      ]
    },
    {
      "cell_type": "code",
      "source": [
        "#You must run this cell to print matrix and for the driver code to work\n",
        "def print_matrix(m):\n",
        "  row,col = m.shape\n",
        "  for i in range(row):\n",
        "    c = 1\n",
        "    print('|', end='')\n",
        "    for j in range(col):\n",
        "      c += 1\n",
        "      if(len(str(m[i][j])) == 1):\n",
        "        print(' ',m[i][j], end = '  |')\n",
        "        c += 6\n",
        "      else:\n",
        "        print(' ',m[i][j], end = ' |')\n",
        "        c += 6\n",
        "    print()\n",
        "    print('-'*(c-col))\n"
      ],
      "metadata": {
        "id": "srOjdw7El2db"
      },
      "execution_count": null,
      "outputs": []
    },
    {
      "cell_type": "markdown",
      "source": [
        "#Zigzag Walk"
      ],
      "metadata": {
        "id": "ALwE-G26luWL"
      }
    },
    {
      "cell_type": "code",
      "execution_count": null,
      "metadata": {
        "id": "OccSdn4hliXc",
        "colab": {
          "base_uri": "https://localhost:8080/"
        },
        "outputId": "f02bfc4d-50a6-4a63-8639-dd6a7b8c2d81"
      },
      "outputs": [
        {
          "output_type": "stream",
          "name": "stdout",
          "text": [
            "|  3  |  8  |  4  |  6  |  1  |\n",
            "-------------------------------\n",
            "|  7  |  2  |  1  |  9  |  3  |\n",
            "-------------------------------\n",
            "|  9  |  0  |  7  |  5  |  8  |\n",
            "-------------------------------\n",
            "|  2  |  1  |  3  |  4  |  0  |\n",
            "-------------------------------\n",
            "|  1  |  4  |  2  |  8  |  6  |\n",
            "-------------------------------\n",
            "Walking Sequence:\n",
            "3 9 1 \n",
            "1 2 \n",
            "4 7 2 \n",
            "4 9 \n",
            "1 8 6 \n",
            "################\n",
            "|  3  |  8  |  4  |  6  |  1  |\n",
            "-------------------------------\n",
            "|  7  |  2  |  1  |  9  |  3  |\n",
            "-------------------------------\n",
            "|  9  |  0  |  7  |  5  |  8  |\n",
            "-------------------------------\n",
            "|  2  |  1  |  3  |  4  |  0  |\n",
            "-------------------------------\n",
            "Walking Sequence:\n",
            "3 9 \n",
            "1 2 \n",
            "4 7 \n",
            "4 9 \n",
            "1 8 \n"
          ]
        }
      ],
      "source": [
        "def walk_zigzag(floor):\n",
        "  row,col = floor.shape\n",
        "  if row % 2 == 0: # if row even\n",
        "    for i in range(0,col,1):\n",
        "      if i % 2 == 0: # if col even\n",
        "        for j in range(0,row-1,2):\n",
        "          print(floor[j][i],end=' ')\n",
        "        print()\n",
        "      else: # if col odd\n",
        "        for j in range(row-1,0,-2):\n",
        "          print(floor[j][i],end=' ')\n",
        "        print()\n",
        "  else: # if row odd\n",
        "    for i in range(0,col,1):\n",
        "      if i % 2 == 0: # if col even\n",
        "        for j in range(0,row,2):\n",
        "          print(floor[j][i],end=' ')\n",
        "        print()\n",
        "      else: # if col odd\n",
        "        for j in range(row-2,0,-2):\n",
        "          print(floor[j][i],end=' ')\n",
        "        print()\n",
        "\n",
        "\n",
        "\n",
        "floor = np.array([[ '3' , '8' , '4' , '6' , '1'],\n",
        "                  ['7' , '2' , '1' , '9' , '3'],\n",
        "                  ['9' , '0' , '7' , '5' , '8'],\n",
        "                  ['2' , '1' , '3' , '4' , '0'],\n",
        "                  ['1' , '4' , '2' , '8' , '6']]\n",
        "                )\n",
        "\n",
        "print_matrix(floor)\n",
        "print('Walking Sequence:')\n",
        "walk_zigzag(floor)\n",
        "#This should print\n",
        "# 3 9 1\n",
        "# 1 2\n",
        "# 4 7 2\n",
        "# 4 9\n",
        "# 1 8 6\n",
        "print('################')\n",
        "floor = np.array([[ '3' , '8' , '4' , '6' , '1'],\n",
        "                  ['7' , '2' , '1' , '9' , '3'],\n",
        "                  ['9' , '0' , '7' , '5' , '8'],\n",
        "                  ['2' , '1' , '3' , '4' , '0']]\n",
        "                )\n",
        "\n",
        "print_matrix(floor)\n",
        "print('Walking Sequence:')\n",
        "walk_zigzag(floor)\n",
        "#This should print\n",
        "# 3 9\n",
        "# 1 2\n",
        "# 4 7\n",
        "# 4 9\n",
        "# 1 8"
      ]
    },
    {
      "cell_type": "markdown",
      "source": [
        "#Wall Up Trost District"
      ],
      "metadata": {
        "id": "Te694MO5nAJ8"
      }
    },
    {
      "cell_type": "code",
      "source": [
        "def create_fence(district, depth):\n",
        "\n",
        "\n",
        "  district_row, district_col = district.shape\n",
        "  newarr = np.zeros((district_row+2*depth,district_col+2*depth), dtype = int)\n",
        "\n",
        "  newrow,newcol = newarr.shape\n",
        "  x = 0\n",
        "  while x<newrow:\n",
        "    y = 0\n",
        "    while y<newcol:\n",
        "      newarr[x][y] = 8\n",
        "      y += 1\n",
        "    x += 1\n",
        "\n",
        "  p = 0\n",
        "  while p<district_row:\n",
        "    q = 0\n",
        "    while q<district_col:\n",
        "      newarr[p+depth][q+depth] = district[p][q]\n",
        "      q += 1\n",
        "    p += 1\n",
        "  return newarr\n",
        "\n",
        "\n",
        "\n",
        "depth = 1\n",
        "district = np.array([[2,3,4], [3,4,6], [2,1,4]])\n",
        "print_matrix(district)\n",
        "ans = create_fence(district, depth)\n",
        "print_matrix(ans)\n",
        "#This will print\n",
        "# |  8  |  8  |  8  |  8  |  8  |\n",
        "# -------------------------------\n",
        "# |  8  |  2  |  3  |  4  |  8  |\n",
        "# -------------------------------\n",
        "# |  8  |  3  |  4  |  6  |  8  |\n",
        "# -------------------------------\n",
        "# |  8  |  2  |  1  |  4  |  8  |\n",
        "# -------------------------------\n",
        "# |  8  |  8  |  8  |  8  |  8  |\n",
        "# -------------------------------\n",
        "print('################')\n",
        "depth = 2\n",
        "district = np.array([\n",
        "                 [2,3,4,1],\n",
        "                 [3,4,6,5],\n",
        "                 [2,1,4,7]\n",
        "                ])\n",
        "print_matrix(district)\n",
        "ans = create_fence(district, depth)\n",
        "print_matrix(ans)\n"
      ],
      "metadata": {
        "id": "ynl41ICWma8W",
        "colab": {
          "base_uri": "https://localhost:8080/"
        },
        "outputId": "626d036f-7a23-48b6-9a0c-0a9a2b0f2d58"
      },
      "execution_count": null,
      "outputs": [
        {
          "output_type": "stream",
          "name": "stdout",
          "text": [
            "|  2  |  3  |  4  |\n",
            "-------------------\n",
            "|  3  |  4  |  6  |\n",
            "-------------------\n",
            "|  2  |  1  |  4  |\n",
            "-------------------\n",
            "|  8  |  8  |  8  |  8  |  8  |\n",
            "-------------------------------\n",
            "|  8  |  2  |  3  |  4  |  8  |\n",
            "-------------------------------\n",
            "|  8  |  3  |  4  |  6  |  8  |\n",
            "-------------------------------\n",
            "|  8  |  2  |  1  |  4  |  8  |\n",
            "-------------------------------\n",
            "|  8  |  8  |  8  |  8  |  8  |\n",
            "-------------------------------\n",
            "################\n",
            "|  2  |  3  |  4  |  1  |\n",
            "-------------------------\n",
            "|  3  |  4  |  6  |  5  |\n",
            "-------------------------\n",
            "|  2  |  1  |  4  |  7  |\n",
            "-------------------------\n",
            "|  8  |  8  |  8  |  8  |  8  |  8  |  8  |  8  |\n",
            "-------------------------------------------------\n",
            "|  8  |  8  |  8  |  8  |  8  |  8  |  8  |  8  |\n",
            "-------------------------------------------------\n",
            "|  8  |  8  |  2  |  3  |  4  |  1  |  8  |  8  |\n",
            "-------------------------------------------------\n",
            "|  8  |  8  |  3  |  4  |  6  |  5  |  8  |  8  |\n",
            "-------------------------------------------------\n",
            "|  8  |  8  |  2  |  1  |  4  |  7  |  8  |  8  |\n",
            "-------------------------------------------------\n",
            "|  8  |  8  |  8  |  8  |  8  |  8  |  8  |  8  |\n",
            "-------------------------------------------------\n",
            "|  8  |  8  |  8  |  8  |  8  |  8  |  8  |  8  |\n",
            "-------------------------------------------------\n"
          ]
        }
      ]
    },
    {
      "cell_type": "markdown",
      "source": [
        "#Crows vs Cats"
      ],
      "metadata": {
        "id": "-l1SdQX1odKf"
      }
    },
    {
      "cell_type": "code",
      "source": [
        "def strength_difference(clubroom):\n",
        "  strength_diff = np.zeros(100, dtype = int)\n",
        "\n",
        "  size = ((len(clubroom)**2)-(len(clubroom)))//2\n",
        "  strength_diff = np.array([0]*size)\n",
        "  row,col = clubroom.shape\n",
        "\n",
        "  c = 0\n",
        "  for x in range(row):\n",
        "    for y in range(x+1,col):\n",
        "      strength_diff[c] = clubroom[x][y] - clubroom[y][x]\n",
        "      c += 1\n",
        "  print(strength_diff)\n",
        "  return strength_diff\n",
        "\n",
        "clubroom = np.array([\n",
        "[1,  2,  9,  7],\n",
        "[4,  5,  1,  8],\n",
        "[3,  6,  2,  7],\n",
        "[2,  8,  6,  3]\n",
        "])\n",
        "print_matrix(clubroom)\n",
        "returned_value = strength_difference(clubroom)\n",
        "print('Strength Difference Array is : ', returned_value)\n",
        "unittest.output_test(returned_value, np.array([-2, 6, 5, -5, 0, 1]))"
      ],
      "metadata": {
        "id": "8Tj2Smc3nvsh",
        "colab": {
          "base_uri": "https://localhost:8080/"
        },
        "outputId": "b22b3fa1-7387-4241-d1f8-62ae720395f1"
      },
      "execution_count": null,
      "outputs": [
        {
          "output_type": "stream",
          "name": "stdout",
          "text": [
            "|  1  |  2  |  9  |  7  |\n",
            "-------------------------\n",
            "|  4  |  5  |  1  |  8  |\n",
            "-------------------------\n",
            "|  3  |  6  |  2  |  7  |\n",
            "-------------------------\n",
            "|  2  |  8  |  6  |  3  |\n",
            "-------------------------\n",
            "[-2  6  5 -5  0  1]\n",
            "Strength Difference Array is :  [-2  6  5 -5  0  1]\n",
            "Accepted\n"
          ]
        }
      ]
    },
    {
      "cell_type": "markdown",
      "source": [
        "#ATM's Triangle"
      ],
      "metadata": {
        "id": "CcjR0GgUpW8A"
      }
    },
    {
      "cell_type": "code",
      "source": [
        "def atm_triangle(n):\n",
        "  matrix = np.zeros((n,n), dtype = int)\n",
        "  for i in range(n):\n",
        "    matrix[i][0] = i+1 # step2\n",
        "\n",
        "  for j in range(1,n):\n",
        "    matrix[j][j] = matrix[j][0] # step 3\n",
        "\n",
        "  for r in range(2,n):\n",
        "    sum = 0\n",
        "    for c in range(1,r):\n",
        "      sum += matrix[r-1][c-1] + matrix[r-1][c]\n",
        "      matrix[r][c] = sum\n",
        "      sum -= matrix[r-1][c]\n",
        "  return matrix\n",
        "\n",
        "def print_without_none(matrix):\n",
        "  #this prints the non None elements of matrix\n",
        "  for row in range(n):\n",
        "    for col in range(row+1):\n",
        "      print(matrix[row][col],end=' ')\n",
        "    print()\n",
        "\n",
        "n = 5\n",
        "returned_value = atm_triangle(n)\n",
        "print_without_none(returned_value)\n",
        "#This should print\n",
        "# 1\n",
        "# 2  2\n",
        "# 3  4  3\n",
        "# 4  7  10  4\n",
        "# 5  11 21  25  5"
      ],
      "metadata": {
        "id": "br9aLK_5pETy",
        "colab": {
          "base_uri": "https://localhost:8080/"
        },
        "outputId": "e20c87e0-a587-4d3e-f563-a9f24ab44f72"
      },
      "execution_count": null,
      "outputs": [
        {
          "output_type": "stream",
          "name": "stdout",
          "text": [
            "1 \n",
            "2 2 \n",
            "3 4 3 \n",
            "4 7 10 4 \n",
            "5 11 21 25 5 \n"
          ]
        }
      ]
    },
    {
      "cell_type": "markdown",
      "source": [
        "#Trace The BOT"
      ],
      "metadata": {
        "id": "hdl0pTqnqBIQ"
      }
    },
    {
      "cell_type": "code",
      "source": [
        "def moving_around(cmds):\n",
        "  grid = np.full((7, 7), '.')\n",
        "\n",
        "  for i in range(7):\n",
        "    for j in range(7):\n",
        "      if i == 3 and j == 3:\n",
        "        grid[i][j] = '-'\n",
        "\n",
        "  botr = 3\n",
        "  botc = 3\n",
        "\n",
        "  flag = 1\n",
        "\n",
        "  for x in range(len(cmds)):\n",
        "    tempr = botr\n",
        "    tempc = botc\n",
        "    if 1<=cmds[x]<=4:\n",
        "      botr -= 2\n",
        "      botc -= 2\n",
        "    elif 5<=cmds[x]<=9:\n",
        "      botr -= 2\n",
        "      botc += 2\n",
        "    else:\n",
        "      botr += 2\n",
        "      botc -= 2\n",
        "\n",
        "    if cmds[x] % 4 == 1:\n",
        "      botc -= 1\n",
        "    elif cmds[x] % 4 == 2:\n",
        "      botc += 1\n",
        "    elif cmds[x] % 4 == 3:\n",
        "      botr -= 1\n",
        "    else:\n",
        "      botr += 1\n",
        "\n",
        "    if (botr>6 or botr<0) or (botc<0 or botc>6):\n",
        "      flag = 0\n",
        "\n",
        "    if flag == 1:\n",
        "      grid[botr][botc] = '*'\n",
        "    else:\n",
        "      grid[tempr][tempc] = '/'\n",
        "\n",
        "  return grid\n",
        "\n",
        "cmds = np.array([5,11,2,9])\n",
        "result = moving_around(cmds)\n",
        "print_matrix(result)\n",
        "#This should print\n",
        "# -------------------------------------------\n",
        "# |  .  |  /  |  .  |  .  |  .  |  .  |  .  |\n",
        "# -------------------------------------------\n",
        "# |  .  |  .  |  .  |  .  |  *  |  .  |  .  |\n",
        "# -------------------------------------------\n",
        "# |  .  |  .  |  *  |  .  |  .  |  .  |  .  |\n",
        "# -------------------------------------------\n",
        "# |  .  |  .  |  .  |  -  |  .  |  .  |  .  |\n",
        "# -------------------------------------------\n",
        "# |  .  |  .  |  .  |  .  |  .  |  .  |  .  |\n",
        "# -------------------------------------------\n",
        "# |  .  |  .  |  .  |  .  |  .  |  .  |  .  |\n",
        "# -------------------------------------------\n",
        "# |  .  |  .  |  .  |  .  |  .  |  .  |  .  |\n",
        "# -------------------------------------------"
      ],
      "metadata": {
        "id": "NtWs-lWUqDjw",
        "colab": {
          "base_uri": "https://localhost:8080/"
        },
        "outputId": "4b8eb07a-82e2-4659-eb9a-1454bc3011fc"
      },
      "execution_count": null,
      "outputs": [
        {
          "output_type": "stream",
          "name": "stdout",
          "text": [
            "|  .  |  /  |  .  |  .  |  .  |  .  |  .  |\n",
            "-------------------------------------------\n",
            "|  .  |  .  |  .  |  .  |  *  |  .  |  .  |\n",
            "-------------------------------------------\n",
            "|  .  |  .  |  *  |  .  |  .  |  .  |  .  |\n",
            "-------------------------------------------\n",
            "|  .  |  .  |  .  |  -  |  .  |  .  |  .  |\n",
            "-------------------------------------------\n",
            "|  .  |  .  |  .  |  .  |  .  |  .  |  .  |\n",
            "-------------------------------------------\n",
            "|  .  |  .  |  .  |  .  |  .  |  .  |  .  |\n",
            "-------------------------------------------\n",
            "|  .  |  .  |  .  |  .  |  .  |  .  |  .  |\n",
            "-------------------------------------------\n"
          ]
        }
      ]
    }
  ]
}