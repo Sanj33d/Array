{
  "nbformat": 4,
  "nbformat_minor": 0,
  "metadata": {
    "colab": {
      "provenance": [],
      "authorship_tag": "ABX9TyOaGAMZShiRtnRzWbyieD7l",
      "include_colab_link": true
    },
    "kernelspec": {
      "name": "python3",
      "display_name": "Python 3"
    },
    "language_info": {
      "name": "python"
    }
  },
  "cells": [
    {
      "cell_type": "markdown",
      "metadata": {
        "id": "view-in-github",
        "colab_type": "text"
      },
      "source": [
        "<a href=\"https://colab.research.google.com/github/Sanj33d/Array/blob/main/220_Lab1_Final.ipynb\" target=\"_parent\"><img src=\"https://colab.research.google.com/assets/colab-badge.svg\" alt=\"Open In Colab\"/></a>"
      ]
    },
    {
      "cell_type": "code",
      "execution_count": null,
      "metadata": {
        "colab": {
          "base_uri": "https://localhost:8080/"
        },
        "id": "-qB5CPpkUKT-",
        "outputId": "b0f0ae99-59e1-4157-b0e9-32fc7eb186c3"
      },
      "outputs": [
        {
          "output_type": "stream",
          "name": "stdout",
          "text": [
            "[40 50 60 10 20 30]\n"
          ]
        }
      ],
      "source": [
        "# T1 done\n",
        "import numpy as np\n",
        "\n",
        "sequence = np.array([10,20,30,40,50,60])\n",
        "beats = np.array([1,0,0,1,0,1])\n",
        "\n",
        "def playRight(seq, bts):\n",
        "\n",
        "  i = 0\n",
        "  while i<len(bts):\n",
        "    if bts[i] == 1:\n",
        "\n",
        "      temp = seq[len(seq)-1]\n",
        "      j = len(seq)-1\n",
        "      while j>0:\n",
        "        seq[j] = seq[j-1]\n",
        "        j -= 1\n",
        "      seq[0] = temp\n",
        "    i += 1\n",
        "  return seq\n",
        "print(playRight(sequence,beats))"
      ]
    },
    {
      "cell_type": "code",
      "source": [
        "# T2 done\n",
        "import numpy as np\n",
        "\n",
        "cards = np.array([10,2,30,2,50,2,2,0,0])\n",
        "\n",
        "def discardCards(crd, num):\n",
        "\n",
        "  size = 0\n",
        "\n",
        "  x = 0\n",
        "  while x<len(crd):\n",
        "    if crd[x] != 0 and crd[x] != None:\n",
        "      size += 1\n",
        "    x += 1\n",
        "\n",
        "  y = 0\n",
        "  while y<size:\n",
        "    if crd[y] == num:\n",
        "      z = y\n",
        "      while z<size-1:  ## z<size dile out of range hoye jay\n",
        "        crd[z] = crd[z+1]\n",
        "        z += 1\n",
        "      crd[size-1] = 0\n",
        "      size -= 1\n",
        "    y += 1\n",
        "\n",
        "  if crd[size-1] == num:\n",
        "      crd[size-1] = 0\n",
        "      size -= 1 # dorkar nai, but imp for projects\n",
        "\n",
        "                      # just for a wrong indentation,\n",
        "  return crd           ## it took me 50 mins to debug\n",
        "print(discardCards(cards,2))"
      ],
      "metadata": {
        "colab": {
          "base_uri": "https://localhost:8080/"
        },
        "id": "5GTl9Ge1UOsU",
        "outputId": "440fe358-7bc9-42cc-916e-a88f61a8a6c3"
      },
      "execution_count": null,
      "outputs": [
        {
          "output_type": "stream",
          "name": "stdout",
          "text": [
            "[10 30 50  0  0  0  0  0  0]\n"
          ]
        }
      ]
    },
    {
      "cell_type": "code",
      "source": [
        "# T3 done\n",
        "import numpy as np\n",
        "\n",
        "pokemon_1 = np.array([12, 3, 25, 1, None])\n",
        "pokemon_2 = np.array([5, -9, 3, None, None])\n",
        "\n",
        "def mergeLineup(pok1, pok2):\n",
        "\n",
        "  res = np.array([None]*len(pok1))\n",
        "\n",
        "  x = 0\n",
        "  y = len(pok2)-1\n",
        "  while x<len(pok1):\n",
        "    if pok1[x] == None:\n",
        "      pok1[x] = 0\n",
        "    if pok2[y] == None:\n",
        "      pok2[y] = 0\n",
        "    res[x] = pok1[x] + pok2[y]\n",
        "    x += 1\n",
        "    y -= 1\n",
        "\n",
        "  return res\n",
        "print(mergeLineup(pokemon_1, pokemon_2))"
      ],
      "metadata": {
        "colab": {
          "base_uri": "https://localhost:8080/"
        },
        "id": "cyw9r3rIUQDb",
        "outputId": "2ef1b64f-b06f-47b6-e0fd-903be14d417b"
      },
      "execution_count": null,
      "outputs": [
        {
          "output_type": "stream",
          "name": "stdout",
          "text": [
            "[12 3 28 -8 5]\n"
          ]
        }
      ]
    },
    {
      "cell_type": "code",
      "source": [
        "# T4 done\n",
        "import numpy as np\n",
        "\n",
        "salami = np.array([10, 3, 1, 2, 10])\n",
        "\n",
        "def balanceSalami(sal):\n",
        "\n",
        "  toggle = True\n",
        "  sumx = 0\n",
        "  sumy = 0\n",
        "\n",
        "  x = 0\n",
        "  y = len(sal)-1\n",
        "  while x<len(sal)//2:  ### most important\n",
        "\n",
        "    sumx += sal[x]\n",
        "    sumy += sal[y]\n",
        "\n",
        "    x += 1\n",
        "    y -= 1\n",
        "\n",
        "  if sumx == sumy:\n",
        "    toggle = False #cuz mid element karo shathe add hoilei unequal hoye jabe\n",
        "\n",
        "  elif sumx<sumy:\n",
        "    sumx += sal[len(sal)//2]\n",
        "    if sumx == sumy:\n",
        "      toggle = True\n",
        "    else:\n",
        "      toggle = False\n",
        "\n",
        "  else:\n",
        "    sumy += sal[len(sal)//2]\n",
        "    if sumx == sumy:\n",
        "      toggle = True\n",
        "    else:\n",
        "      toggle = False\n",
        "\n",
        "  return toggle\n",
        "\n",
        "print(balanceSalami(salami))"
      ],
      "metadata": {
        "colab": {
          "base_uri": "https://localhost:8080/"
        },
        "id": "oXAqJbNMUR_T",
        "outputId": "68e7b7da-9385-457b-9ddd-40f5f509cb57"
      },
      "execution_count": null,
      "outputs": [
        {
          "output_type": "stream",
          "name": "stdout",
          "text": [
            "True\n"
          ]
        }
      ]
    },
    {
      "cell_type": "code",
      "source": [
        "# T5 without using in and not in\n",
        "\n",
        "import numpy as np\n",
        "\n",
        "salami = salami = np.array([4,5,6,6,4,3,6,4])\n",
        "\n",
        "def protectSalami(sal):\n",
        "\n",
        "  mt_arr = np.array([1]*len(sal))\n",
        "\n",
        "  x = 0\n",
        "  while x<len(sal):\n",
        "\n",
        "    y = x + 1\n",
        "    while y<len(sal):\n",
        "      if sal[x] == sal[y]:\n",
        "        mt_arr[x] += 1\n",
        "      y += 1\n",
        "\n",
        "    x += 1\n",
        "\n",
        "  z = 0\n",
        "  largest = mt_arr[0]\n",
        "  while z<len(mt_arr):\n",
        "    if mt_arr[z]>largest:\n",
        "      largest = mt_arr[z]\n",
        "    z += 1\n",
        "\n",
        "  counter = 0\n",
        "  if largest>1:  # if the largest element of the new array is more than 1\n",
        "    p = 0\n",
        "    counter = 0\n",
        "    while p<len(mt_arr):\n",
        "      if mt_arr[p] == largest:\n",
        "        counter += 1\n",
        "      p += 1\n",
        "\n",
        "\n",
        "  if counter>1:\n",
        "    return True   ## if the largest element comes atleast 2 times, then True\n",
        "  else:\n",
        "    return False\n",
        "\n",
        "print(protectSalami(salami))"
      ],
      "metadata": {
        "colab": {
          "base_uri": "https://localhost:8080/"
        },
        "id": "v0hiLiyFUT_L",
        "outputId": "8be7a7c4-ed5c-40d0-fa14-365a66b1aa76"
      },
      "execution_count": null,
      "outputs": [
        {
          "output_type": "stream",
          "name": "stdout",
          "text": [
            "True\n"
          ]
        }
      ]
    },
    {
      "cell_type": "code",
      "source": [
        "# Part2 done\n",
        "\n",
        "import numpy as np\n",
        "\n",
        "my_arr = np.array([10, 8, 13, 9, 14, 25, -5, 20, 7, 7, 4])\n",
        "\n",
        "def meancalculator(arr):\n",
        "\n",
        "  sum = 0\n",
        "  i = 0\n",
        "  while i<len(arr):\n",
        "    sum += my_arr[i]\n",
        "    i += 1\n",
        "\n",
        "  mean = sum/len(arr)\n",
        "\n",
        "  return mean\n",
        "print('The mean of the numbers is:',meancalculator(my_arr))\n",
        "#######################\n",
        "\n",
        "my_arr = np.array([10, 8, 13, 9, 14, 25, -5, 20, 7, 7, 4])\n",
        "\n",
        "def std_dev_calculator(arr):\n",
        "\n",
        "  mean = meancalculator(arr)\n",
        "\n",
        "  j = 0\n",
        "  sum = 0\n",
        "  while j<len(arr):\n",
        "    sum += (arr[j]-mean)**2\n",
        "    j += 1\n",
        "\n",
        "  std_dev = (sum/len(arr))**(1/2)\n",
        "  return std_dev\n",
        "print('The standard deviation is:',std_dev_calculator(my_arr))\n",
        "##################################\n",
        "def newarray_calculator(arr):\n",
        "\n",
        "  upper_val = meancalculator(arr) + 1.5*std_dev_calculator(arr)\n",
        "  lower_val = meancalculator(arr) - 1.5*std_dev_calculator(arr)\n",
        "\n",
        "  counter = 0\n",
        "  k = 0\n",
        "  while k<len(arr):\n",
        "    if arr[k]<=lower_val or arr[k]>=upper_val:\n",
        "      counter += 1\n",
        "    k += 1\n",
        "\n",
        "  newarr = np.array([None]*counter)\n",
        "\n",
        "  x = 0\n",
        "  y = 0\n",
        "  while x<len(arr):\n",
        "    if arr[x]<=lower_val or arr[x]>=upper_val:\n",
        "      newarr[y] = arr[x]\n",
        "      y += 1\n",
        "    x += 1\n",
        "\n",
        "  return newarr\n",
        "print('New array',newarray_calculator(my_arr))"
      ],
      "metadata": {
        "id": "7NC0IBI-UVvj"
      },
      "execution_count": null,
      "outputs": []
    }
  ]
}